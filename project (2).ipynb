{
 "cells": [
  {
   "cell_type": "code",
   "execution_count": 40,
   "metadata": {
    "id": "J5VSHFG797ig"
   },
   "outputs": [],
   "source": [
    "import pandas as pd\n",
    "import numpy as np\n",
    "import matplotlib.pyplot as plt\n",
    "import seaborn as sns"
   ]
  },
  {
   "cell_type": "code",
   "execution_count": 41,
   "metadata": {
    "colab": {
     "base_uri": "https://localhost:8080/",
     "height": 304
    },
    "id": "Znk_JmJ6_uxa",
    "outputId": "dc868b98-8b15-4a70-c6a3-87a759024689"
   },
   "outputs": [],
   "source": [
    "df_train  = pd.read_csv(\"student_addiction_dataset_train.csv\")"
   ]
  },
  {
   "cell_type": "code",
   "execution_count": 42,
   "metadata": {
    "colab": {
     "base_uri": "https://localhost:8080/",
     "height": 226
    },
    "id": "bmChj1zOB6Fm",
    "outputId": "0e853d05-b8e2-4a29-8c98-c36d195d1549"
   },
   "outputs": [
    {
     "data": {
      "text/html": [
       "<div>\n",
       "<style scoped>\n",
       "    .dataframe tbody tr th:only-of-type {\n",
       "        vertical-align: middle;\n",
       "    }\n",
       "\n",
       "    .dataframe tbody tr th {\n",
       "        vertical-align: top;\n",
       "    }\n",
       "\n",
       "    .dataframe thead th {\n",
       "        text-align: right;\n",
       "    }\n",
       "</style>\n",
       "<table border=\"1\" class=\"dataframe\">\n",
       "  <thead>\n",
       "    <tr style=\"text-align: right;\">\n",
       "      <th></th>\n",
       "      <th>Experimentation</th>\n",
       "      <th>Academic_Performance_Decline</th>\n",
       "      <th>Social_Isolation</th>\n",
       "      <th>Financial_Issues</th>\n",
       "      <th>Physical_Mental_Health_Problems</th>\n",
       "      <th>Legal_Consequences</th>\n",
       "      <th>Relationship_Strain</th>\n",
       "      <th>Risk_Taking_Behavior</th>\n",
       "      <th>Withdrawal_Symptoms</th>\n",
       "      <th>Denial_and_Resistance_to_Treatment</th>\n",
       "      <th>Addiction_Class</th>\n",
       "    </tr>\n",
       "  </thead>\n",
       "  <tbody>\n",
       "    <tr>\n",
       "      <th>0</th>\n",
       "      <td>Yes</td>\n",
       "      <td>No</td>\n",
       "      <td>No</td>\n",
       "      <td>Yes</td>\n",
       "      <td>No</td>\n",
       "      <td>No</td>\n",
       "      <td>No</td>\n",
       "      <td>Yes</td>\n",
       "      <td>No</td>\n",
       "      <td>No</td>\n",
       "      <td>No</td>\n",
       "    </tr>\n",
       "    <tr>\n",
       "      <th>1</th>\n",
       "      <td>No</td>\n",
       "      <td>Yes</td>\n",
       "      <td>NaN</td>\n",
       "      <td>Yes</td>\n",
       "      <td>Yes</td>\n",
       "      <td>Yes</td>\n",
       "      <td>Yes</td>\n",
       "      <td>Yes</td>\n",
       "      <td>Yes</td>\n",
       "      <td>No</td>\n",
       "      <td>Yes</td>\n",
       "    </tr>\n",
       "    <tr>\n",
       "      <th>2</th>\n",
       "      <td>No</td>\n",
       "      <td>No</td>\n",
       "      <td>No</td>\n",
       "      <td>No</td>\n",
       "      <td>No</td>\n",
       "      <td>Yes</td>\n",
       "      <td>Yes</td>\n",
       "      <td>Yes</td>\n",
       "      <td>No</td>\n",
       "      <td>No</td>\n",
       "      <td>No</td>\n",
       "    </tr>\n",
       "    <tr>\n",
       "      <th>3</th>\n",
       "      <td>Yes</td>\n",
       "      <td>No</td>\n",
       "      <td>Yes</td>\n",
       "      <td>Yes</td>\n",
       "      <td>No</td>\n",
       "      <td>Yes</td>\n",
       "      <td>No</td>\n",
       "      <td>No</td>\n",
       "      <td>No</td>\n",
       "      <td>Yes</td>\n",
       "      <td>Yes</td>\n",
       "    </tr>\n",
       "    <tr>\n",
       "      <th>4</th>\n",
       "      <td>Yes</td>\n",
       "      <td>Yes</td>\n",
       "      <td>No</td>\n",
       "      <td>NaN</td>\n",
       "      <td>No</td>\n",
       "      <td>Yes</td>\n",
       "      <td>Yes</td>\n",
       "      <td>Yes</td>\n",
       "      <td>No</td>\n",
       "      <td>No</td>\n",
       "      <td>Yes</td>\n",
       "    </tr>\n",
       "  </tbody>\n",
       "</table>\n",
       "</div>"
      ],
      "text/plain": [
       "  Experimentation Academic_Performance_Decline Social_Isolation  \\\n",
       "0             Yes                           No               No   \n",
       "1              No                          Yes              NaN   \n",
       "2              No                           No               No   \n",
       "3             Yes                           No              Yes   \n",
       "4             Yes                          Yes               No   \n",
       "\n",
       "  Financial_Issues Physical_Mental_Health_Problems Legal_Consequences  \\\n",
       "0              Yes                              No                 No   \n",
       "1              Yes                             Yes                Yes   \n",
       "2               No                              No                Yes   \n",
       "3              Yes                              No                Yes   \n",
       "4              NaN                              No                Yes   \n",
       "\n",
       "  Relationship_Strain Risk_Taking_Behavior Withdrawal_Symptoms  \\\n",
       "0                  No                  Yes                  No   \n",
       "1                 Yes                  Yes                 Yes   \n",
       "2                 Yes                  Yes                  No   \n",
       "3                  No                   No                  No   \n",
       "4                 Yes                  Yes                  No   \n",
       "\n",
       "  Denial_and_Resistance_to_Treatment Addiction_Class  \n",
       "0                                 No              No  \n",
       "1                                 No             Yes  \n",
       "2                                 No              No  \n",
       "3                                Yes             Yes  \n",
       "4                                 No             Yes  "
      ]
     },
     "execution_count": 42,
     "metadata": {},
     "output_type": "execute_result"
    }
   ],
   "source": [
    "df_train.head()"
   ]
  },
  {
   "cell_type": "code",
   "execution_count": 43,
   "metadata": {
    "colab": {
     "base_uri": "https://localhost:8080/"
    },
    "id": "hS3B_MEdB-qE",
    "outputId": "9d4a854d-a4af-4b8a-fdb2-b7baff2b3d78"
   },
   "outputs": [
    {
     "data": {
      "text/plain": [
       "(50342, 11)"
      ]
     },
     "execution_count": 43,
     "metadata": {},
     "output_type": "execute_result"
    }
   ],
   "source": [
    "df_train.shape"
   ]
  },
  {
   "cell_type": "code",
   "execution_count": 44,
   "metadata": {
    "colab": {
     "base_uri": "https://localhost:8080/"
    },
    "id": "34TQvYAVCCJW",
    "outputId": "932cef64-769b-4d79-88df-47ba61f4cf99"
   },
   "outputs": [
    {
     "name": "stdout",
     "output_type": "stream",
     "text": [
      "<class 'pandas.core.frame.DataFrame'>\n",
      "RangeIndex: 50342 entries, 0 to 50341\n",
      "Data columns (total 11 columns):\n",
      " #   Column                              Non-Null Count  Dtype \n",
      "---  ------                              --------------  ----- \n",
      " 0   Experimentation                     47780 non-null  object\n",
      " 1   Academic_Performance_Decline        47844 non-null  object\n",
      " 2   Social_Isolation                    47792 non-null  object\n",
      " 3   Financial_Issues                    47805 non-null  object\n",
      " 4   Physical_Mental_Health_Problems     47888 non-null  object\n",
      " 5   Legal_Consequences                  47766 non-null  object\n",
      " 6   Relationship_Strain                 47799 non-null  object\n",
      " 7   Risk_Taking_Behavior                47765 non-null  object\n",
      " 8   Withdrawal_Symptoms                 47730 non-null  object\n",
      " 9   Denial_and_Resistance_to_Treatment  47889 non-null  object\n",
      " 10  Addiction_Class                     50342 non-null  object\n",
      "dtypes: object(11)\n",
      "memory usage: 4.2+ MB\n"
     ]
    }
   ],
   "source": [
    "df_train.info()"
   ]
  },
  {
   "cell_type": "code",
   "execution_count": 62,
   "metadata": {},
   "outputs": [
    {
     "data": {
      "text/html": [
       "<div>\n",
       "<style scoped>\n",
       "    .dataframe tbody tr th:only-of-type {\n",
       "        vertical-align: middle;\n",
       "    }\n",
       "\n",
       "    .dataframe tbody tr th {\n",
       "        vertical-align: top;\n",
       "    }\n",
       "\n",
       "    .dataframe thead th {\n",
       "        text-align: right;\n",
       "    }\n",
       "</style>\n",
       "<table border=\"1\" class=\"dataframe\">\n",
       "  <thead>\n",
       "    <tr style=\"text-align: right;\">\n",
       "      <th></th>\n",
       "      <th>Experimentation</th>\n",
       "      <th>Academic_Performance_Decline</th>\n",
       "      <th>Social_Isolation</th>\n",
       "      <th>Financial_Issues</th>\n",
       "      <th>Physical_Mental_Health_Problems</th>\n",
       "      <th>Legal_Consequences</th>\n",
       "      <th>Relationship_Strain</th>\n",
       "      <th>Risk_Taking_Behavior</th>\n",
       "      <th>Withdrawal_Symptoms</th>\n",
       "      <th>Denial_and_Resistance_to_Treatment</th>\n",
       "      <th>Addiction_Class</th>\n",
       "    </tr>\n",
       "  </thead>\n",
       "  <tbody>\n",
       "    <tr>\n",
       "      <th>count</th>\n",
       "      <td>50342.000000</td>\n",
       "      <td>50342.000000</td>\n",
       "      <td>50342.000000</td>\n",
       "      <td>50342.000000</td>\n",
       "      <td>50342.000000</td>\n",
       "      <td>50342.000000</td>\n",
       "      <td>50342.000000</td>\n",
       "      <td>50342.000000</td>\n",
       "      <td>50342.000000</td>\n",
       "      <td>50342.000000</td>\n",
       "      <td>50342.000000</td>\n",
       "    </tr>\n",
       "    <tr>\n",
       "      <th>mean</th>\n",
       "      <td>0.477077</td>\n",
       "      <td>0.475845</td>\n",
       "      <td>0.474713</td>\n",
       "      <td>0.476600</td>\n",
       "      <td>0.474792</td>\n",
       "      <td>0.473779</td>\n",
       "      <td>0.476938</td>\n",
       "      <td>0.473303</td>\n",
       "      <td>0.477891</td>\n",
       "      <td>0.478149</td>\n",
       "      <td>0.299392</td>\n",
       "    </tr>\n",
       "    <tr>\n",
       "      <th>std</th>\n",
       "      <td>0.499479</td>\n",
       "      <td>0.499421</td>\n",
       "      <td>0.499365</td>\n",
       "      <td>0.499457</td>\n",
       "      <td>0.499369</td>\n",
       "      <td>0.499317</td>\n",
       "      <td>0.499473</td>\n",
       "      <td>0.499292</td>\n",
       "      <td>0.499516</td>\n",
       "      <td>0.499527</td>\n",
       "      <td>0.457996</td>\n",
       "    </tr>\n",
       "    <tr>\n",
       "      <th>min</th>\n",
       "      <td>0.000000</td>\n",
       "      <td>0.000000</td>\n",
       "      <td>0.000000</td>\n",
       "      <td>0.000000</td>\n",
       "      <td>0.000000</td>\n",
       "      <td>0.000000</td>\n",
       "      <td>0.000000</td>\n",
       "      <td>0.000000</td>\n",
       "      <td>0.000000</td>\n",
       "      <td>0.000000</td>\n",
       "      <td>0.000000</td>\n",
       "    </tr>\n",
       "    <tr>\n",
       "      <th>25%</th>\n",
       "      <td>0.000000</td>\n",
       "      <td>0.000000</td>\n",
       "      <td>0.000000</td>\n",
       "      <td>0.000000</td>\n",
       "      <td>0.000000</td>\n",
       "      <td>0.000000</td>\n",
       "      <td>0.000000</td>\n",
       "      <td>0.000000</td>\n",
       "      <td>0.000000</td>\n",
       "      <td>0.000000</td>\n",
       "      <td>0.000000</td>\n",
       "    </tr>\n",
       "    <tr>\n",
       "      <th>50%</th>\n",
       "      <td>0.000000</td>\n",
       "      <td>0.000000</td>\n",
       "      <td>0.000000</td>\n",
       "      <td>0.000000</td>\n",
       "      <td>0.000000</td>\n",
       "      <td>0.000000</td>\n",
       "      <td>0.000000</td>\n",
       "      <td>0.000000</td>\n",
       "      <td>0.000000</td>\n",
       "      <td>0.000000</td>\n",
       "      <td>0.000000</td>\n",
       "    </tr>\n",
       "    <tr>\n",
       "      <th>75%</th>\n",
       "      <td>1.000000</td>\n",
       "      <td>1.000000</td>\n",
       "      <td>1.000000</td>\n",
       "      <td>1.000000</td>\n",
       "      <td>1.000000</td>\n",
       "      <td>1.000000</td>\n",
       "      <td>1.000000</td>\n",
       "      <td>1.000000</td>\n",
       "      <td>1.000000</td>\n",
       "      <td>1.000000</td>\n",
       "      <td>1.000000</td>\n",
       "    </tr>\n",
       "    <tr>\n",
       "      <th>max</th>\n",
       "      <td>1.000000</td>\n",
       "      <td>1.000000</td>\n",
       "      <td>1.000000</td>\n",
       "      <td>1.000000</td>\n",
       "      <td>1.000000</td>\n",
       "      <td>1.000000</td>\n",
       "      <td>1.000000</td>\n",
       "      <td>1.000000</td>\n",
       "      <td>1.000000</td>\n",
       "      <td>1.000000</td>\n",
       "      <td>1.000000</td>\n",
       "    </tr>\n",
       "  </tbody>\n",
       "</table>\n",
       "</div>"
      ],
      "text/plain": [
       "       Experimentation  Academic_Performance_Decline  Social_Isolation  \\\n",
       "count     50342.000000                  50342.000000      50342.000000   \n",
       "mean          0.477077                      0.475845          0.474713   \n",
       "std           0.499479                      0.499421          0.499365   \n",
       "min           0.000000                      0.000000          0.000000   \n",
       "25%           0.000000                      0.000000          0.000000   \n",
       "50%           0.000000                      0.000000          0.000000   \n",
       "75%           1.000000                      1.000000          1.000000   \n",
       "max           1.000000                      1.000000          1.000000   \n",
       "\n",
       "       Financial_Issues  Physical_Mental_Health_Problems  Legal_Consequences  \\\n",
       "count      50342.000000                     50342.000000        50342.000000   \n",
       "mean           0.476600                         0.474792            0.473779   \n",
       "std            0.499457                         0.499369            0.499317   \n",
       "min            0.000000                         0.000000            0.000000   \n",
       "25%            0.000000                         0.000000            0.000000   \n",
       "50%            0.000000                         0.000000            0.000000   \n",
       "75%            1.000000                         1.000000            1.000000   \n",
       "max            1.000000                         1.000000            1.000000   \n",
       "\n",
       "       Relationship_Strain  Risk_Taking_Behavior  Withdrawal_Symptoms  \\\n",
       "count         50342.000000          50342.000000         50342.000000   \n",
       "mean              0.476938              0.473303             0.477891   \n",
       "std               0.499473              0.499292             0.499516   \n",
       "min               0.000000              0.000000             0.000000   \n",
       "25%               0.000000              0.000000             0.000000   \n",
       "50%               0.000000              0.000000             0.000000   \n",
       "75%               1.000000              1.000000             1.000000   \n",
       "max               1.000000              1.000000             1.000000   \n",
       "\n",
       "       Denial_and_Resistance_to_Treatment  Addiction_Class  \n",
       "count                        50342.000000     50342.000000  \n",
       "mean                             0.478149         0.299392  \n",
       "std                              0.499527         0.457996  \n",
       "min                              0.000000         0.000000  \n",
       "25%                              0.000000         0.000000  \n",
       "50%                              0.000000         0.000000  \n",
       "75%                              1.000000         1.000000  \n",
       "max                              1.000000         1.000000  "
      ]
     },
     "execution_count": 62,
     "metadata": {},
     "output_type": "execute_result"
    }
   ],
   "source": [
    "df_train.describe()"
   ]
  },
  {
   "cell_type": "code",
   "execution_count": 45,
   "metadata": {
    "colab": {
     "base_uri": "https://localhost:8080/"
    },
    "id": "_BpjY5HFCLhW",
    "outputId": "aeb15904-959b-4f14-fb97-980694f1088c"
   },
   "outputs": [
    {
     "data": {
      "text/plain": [
       "Index(['Experimentation', 'Academic_Performance_Decline', 'Social_Isolation',\n",
       "       'Financial_Issues', 'Physical_Mental_Health_Problems',\n",
       "       'Legal_Consequences', 'Relationship_Strain', 'Risk_Taking_Behavior',\n",
       "       'Withdrawal_Symptoms', 'Denial_and_Resistance_to_Treatment',\n",
       "       'Addiction_Class'],\n",
       "      dtype='object')"
      ]
     },
     "execution_count": 45,
     "metadata": {},
     "output_type": "execute_result"
    }
   ],
   "source": [
    "columns = df_train.columns\n",
    "columns"
   ]
  },
  {
   "cell_type": "code",
   "execution_count": null,
   "metadata": {},
   "outputs": [],
   "source": []
  },
  {
   "cell_type": "code",
   "execution_count": 46,
   "metadata": {
    "colab": {
     "base_uri": "https://localhost:8080/"
    },
    "id": "X8krMTjyCXbd",
    "outputId": "176b1cc7-95f9-4d73-c64f-de367149c936"
   },
   "outputs": [
    {
     "name": "stdout",
     "output_type": "stream",
     "text": [
      "['Yes' 'No' nan]\n",
      "['No' 'Yes' nan]\n",
      "['No' nan 'Yes']\n",
      "['Yes' 'No' nan]\n",
      "['No' 'Yes' nan]\n",
      "['No' 'Yes' nan]\n",
      "['No' 'Yes' nan]\n",
      "['Yes' 'No' nan]\n",
      "['No' 'Yes' nan]\n",
      "['No' 'Yes' nan]\n",
      "['No' 'Yes']\n"
     ]
    }
   ],
   "source": [
    "for i in columns:\n",
    "  print(df_train[i].unique())"
   ]
  },
  {
   "cell_type": "code",
   "execution_count": 47,
   "metadata": {
    "colab": {
     "base_uri": "https://localhost:8080/"
    },
    "id": "v2z7TiCoCqfX",
    "outputId": "c31f8dbf-7dde-47cb-a246-ef1bf885ca85"
   },
   "outputs": [
    {
     "name": "stdout",
     "output_type": "stream",
     "text": [
      "Experimentation\n",
      "Yes    24017\n",
      "No     23763\n",
      "Name: count, dtype: int64\n",
      "Academic_Performance_Decline\n",
      "Yes    23955\n",
      "No     23889\n",
      "Name: count, dtype: int64\n",
      "Social_Isolation\n",
      "Yes    23898\n",
      "No     23894\n",
      "Name: count, dtype: int64\n",
      "Financial_Issues\n",
      "Yes    23993\n",
      "No     23812\n",
      "Name: count, dtype: int64\n",
      "Physical_Mental_Health_Problems\n",
      "No     23986\n",
      "Yes    23902\n",
      "Name: count, dtype: int64\n",
      "Legal_Consequences\n",
      "No     23915\n",
      "Yes    23851\n",
      "Name: count, dtype: int64\n",
      "Relationship_Strain\n",
      "Yes    24010\n",
      "No     23789\n",
      "Name: count, dtype: int64\n",
      "Risk_Taking_Behavior\n",
      "No     23938\n",
      "Yes    23827\n",
      "Name: count, dtype: int64\n",
      "Withdrawal_Symptoms\n",
      "Yes    24058\n",
      "No     23672\n",
      "Name: count, dtype: int64\n",
      "Denial_and_Resistance_to_Treatment\n",
      "Yes    24071\n",
      "No     23818\n",
      "Name: count, dtype: int64\n",
      "Addiction_Class\n",
      "No     35270\n",
      "Yes    15072\n",
      "Name: count, dtype: int64\n"
     ]
    }
   ],
   "source": [
    "for i in columns:\n",
    "  print(df_train[i].value_counts())"
   ]
  },
  {
   "cell_type": "code",
   "execution_count": 48,
   "metadata": {
    "colab": {
     "base_uri": "https://localhost:8080/"
    },
    "id": "Pk1xMihADSAQ",
    "outputId": "c9c50946-8924-43ae-e60e-f24f124abe6a"
   },
   "outputs": [
    {
     "data": {
      "text/plain": [
       "Experimentation                       2562\n",
       "Academic_Performance_Decline          2498\n",
       "Social_Isolation                      2550\n",
       "Financial_Issues                      2537\n",
       "Physical_Mental_Health_Problems       2454\n",
       "Legal_Consequences                    2576\n",
       "Relationship_Strain                   2543\n",
       "Risk_Taking_Behavior                  2577\n",
       "Withdrawal_Symptoms                   2612\n",
       "Denial_and_Resistance_to_Treatment    2453\n",
       "Addiction_Class                          0\n",
       "dtype: int64"
      ]
     },
     "execution_count": 48,
     "metadata": {},
     "output_type": "execute_result"
    }
   ],
   "source": [
    "nan_values = df_train.isna().sum()\n",
    "nan_values"
   ]
  },
  {
   "cell_type": "code",
   "execution_count": 49,
   "metadata": {
    "colab": {
     "base_uri": "https://localhost:8080/",
     "height": 290
    },
    "id": "gqnm8wEuEEn0",
    "outputId": "2397a250-f6d3-480b-b390-9eb2b4a224a2"
   },
   "outputs": [
    {
     "data": {
      "image/png": "[encoded data removed]",
      "text/plain": [
       "<Figure size 300x300 with 1 Axes>"
      ]
     },
     "metadata": {},
     "output_type": "display_data"
    }
   ],
   "source": [
    "yes_count = df_train[\"Addiction_Class\"].value_counts().get(\"Yes\", 0)\n",
    "no_count = df_train[\"Addiction_Class\"].value_counts().get(\"No\", 0)\n",
    "\n",
    "# Calculate total count\n",
    "total_count = yes_count + no_count\n",
    "\n",
    "# Calculate percentages\n",
    "yes_pct = (yes_count / total_count) * 100\n",
    "no_pct = (no_count / total_count) * 100\n",
    "\n",
    "# Create the pie chart\n",
    "plt.figure(figsize=(3, 3))  # Adjust figure size as desired\n",
    "plt.pie([yes_pct, no_pct], labels=['Yes', 'No'], autopct=\"%1.1f%%\", startangle=140)\n",
    "plt.title(\"Distribution of Yes and No in Addiction Class\")\n",
    "plt.axis('equal')  # Equal aspect ratio ensures a circular pie chart\n",
    "plt.show()"
   ]
  },
  {
   "cell_type": "code",
   "execution_count": 50,
   "metadata": {
    "colab": {
     "base_uri": "https://localhost:8080/",
     "height": 290
    },
    "id": "MPpv1KlPEyvO",
    "outputId": "f3bbe5dc-2e37-482c-d20a-3fdc1c71bb59"
   },
   "outputs": [
    {
     "data": {
      "image/png": "[encoded data removed]",
      "text/plain": [
       "<Figure size 300x300 with 1 Axes>"
      ]
     },
     "metadata": {},
     "output_type": "display_data"
    }
   ],
   "source": [
    "yes_count = df_train[\"Social_Isolation\"].value_counts().get(\"Yes\", 0)\n",
    "no_count = df_train[\"Social_Isolation\"].value_counts().get(\"No\", 0)\n",
    "\n",
    "# Calculate total count\n",
    "total_count = yes_count + no_count\n",
    "\n",
    "# Calculate percentages\n",
    "yes_pct = (yes_count / total_count) * 100\n",
    "no_pct = (no_count / total_count) * 100\n",
    "\n",
    "# Create the pie chart\n",
    "plt.figure(figsize=(3, 3))  # Adjust figure size as desired\n",
    "plt.pie([yes_pct, no_pct], labels=['Yes', 'No'], autopct=\"%1.1f%%\", startangle=140)\n",
    "plt.title(\"Distribution of Yes and No in Social_Isolation\")\n",
    "plt.axis('equal')  # Equal aspect ratio ensures a circular pie chart\n",
    "plt.show()"
   ]
  },
  {
   "cell_type": "code",
   "execution_count": 51,
   "metadata": {
    "colab": {
     "base_uri": "https://localhost:8080/",
     "height": 290
    },
    "id": "zrCuc4KqFxMm",
    "outputId": "800f2f68-9425-4ee3-c175-0e5ff3d213b8"
   },
   "outputs": [
    {
     "data": {
      "image/png": "[encoded data removed]",
      "text/plain": [
       "<Figure size 300x300 with 1 Axes>"
      ]
     },
     "metadata": {},
     "output_type": "display_data"
    }
   ],
   "source": [
    "yes_count = df_train[\"Physical_Mental_Health_Problems\"].value_counts().get(\"Yes\", 0)\n",
    "no_count = df_train[\"Physical_Mental_Health_Problems\"].value_counts().get(\"No\", 0)\n",
    "\n",
    "# Calculate total count\n",
    "total_count = yes_count + no_count\n",
    "\n",
    "# Calculate percentages\n",
    "yes_pct = (yes_count / total_count) * 100\n",
    "no_pct = (no_count / total_count) * 100\n",
    "\n",
    "# Create the pie chart\n",
    "plt.figure(figsize=(3, 3))  # Adjust figure size as desired\n",
    "plt.pie([yes_pct, no_pct], labels=['Yes', 'No'], autopct=\"%1.1f%%\", startangle=140)\n",
    "plt.title(\"Distribution of Yes and No in Addiction Class\")\n",
    "plt.axis('equal')  # Equal aspect ratio ensures a circular pie chart\n",
    "plt.show()"
   ]
  },
  {
   "cell_type": "code",
   "execution_count": 56,
   "metadata": {},
   "outputs": [],
   "source": [
    "\n",
    "from sklearn.model_selection import train_test_split\n",
    "from sklearn.pipeline import Pipeline\n",
    "from sklearn.preprocessing import OneHotEncoder\n",
    "from sklearn.compose import ColumnTransformer\n",
    "from sklearn.linear_model import LogisticRegression\n",
    "from sklearn.tree import DecisionTreeClassifier\n",
    "from sklearn.ensemble import RandomForestClassifier\n",
    "from sklearn.svm import SVC\n",
    "from sklearn.metrics import accuracy_score, classification_report\n",
    "from sklearn.impute import SimpleImputer"
   ]
  },
  {
   "cell_type": "code",
   "execution_count": null,
   "metadata": {},
   "outputs": [],
   "source": []
  },
  {
   "cell_type": "code",
   "execution_count": 57,
   "metadata": {
    "colab": {
     "base_uri": "https://localhost:8080/"
    },
    "id": "wcY7Xt0KH5KG",
    "outputId": "cffdad8c-90dc-47a7-95c2-58ddb899d5ec"
   },
   "outputs": [],
   "source": [
    "data = df_train.applymap(lambda x: np.random.choice([0, 1]) if pd.isna(x) else (1 if x == 'Yes' else 0))\n",
    "\n",
    "# Identify categorical columns\n",
    "categorical_features = list(data.columns)\n",
    "categorical_features.remove('Addiction_Class')\n",
    "\n",
    "# Define the preprocessing steps with OneHotEncoder\n",
    "preprocessor = ColumnTransformer(\n",
    "    transformers=[\n",
    "        ('cat', OneHotEncoder(), categorical_features)\n",
    "    ])\n",
    "\n",
    "# List of models to evaluate\n",
    "models = {\n",
    "    'Logistic Regression': LogisticRegression(max_iter=1000, class_weight='balanced'),\n",
    "    'Decision Tree': DecisionTreeClassifier(),\n",
    "    'Random Forest': RandomForestClassifier(),\n",
    "    'Support Vector Machine': SVC(class_weight='balanced')\n",
    "}\n",
    "\n",
    "# Split the data into training and test sets\n",
    "X = data.drop('Addiction_Class', axis=1)\n",
    "y = data['Addiction_Class']\n",
    "X_train, X_test, y_train, y_test = train_test_split(X, y, test_size=0.2, random_state=42)\n"
   ]
  },
  {
   "cell_type": "code",
   "execution_count": 58,
   "metadata": {
    "colab": {
     "base_uri": "https://localhost:8080/",
     "height": 444
    },
    "id": "PSfgXFM0IIGL",
    "outputId": "fdfaff1a-fe7d-4354-e05e-3bebf4de4198"
   },
   "outputs": [
    {
     "data": {
      "text/html": [
       "<style>#sk-container-id-4 {color: black;}#sk-container-id-4 pre{padding: 0;}#sk-container-id-4 div.sk-toggleable {background-color: white;}#sk-container-id-4 label.sk-toggleable__label {cursor: pointer;display: block;width: 100%;margin-bottom: 0;padding: 0.3em;box-sizing: border-box;text-align: center;}#sk-container-id-4 label.sk-toggleable__label-arrow:before {content: \"▸\";float: left;margin-right: 0.25em;color: #696969;}#sk-container-id-4 label.sk-toggleable__label-arrow:hover:before {color: black;}#sk-container-id-4 div.sk-estimator:hover label.sk-toggleable__label-arrow:before {color: black;}#sk-container-id-4 div.sk-toggleable__content {max-height: 0;max-width: 0;overflow: hidden;text-align: left;background-color: #f0f8ff;}#sk-container-id-4 div.sk-toggleable__content pre {margin: 0.2em;color: black;border-radius: 0.25em;background-color: #f0f8ff;}#sk-container-id-4 input.sk-toggleable__control:checked~div.sk-toggleable__content {max-height: 200px;max-width: 100%;overflow: auto;}#sk-container-id-4 input.sk-toggleable__control:checked~label.sk-toggleable__label-arrow:before {content: \"▾\";}#sk-container-id-4 div.sk-estimator input.sk-toggleable__control:checked~label.sk-toggleable__label {background-color: #d4ebff;}#sk-container-id-4 div.sk-label input.sk-toggleable__control:checked~label.sk-toggleable__label {background-color: #d4ebff;}#sk-container-id-4 input.sk-hidden--visually {border: 0;clip: rect(1px 1px 1px 1px);clip: rect(1px, 1px, 1px, 1px);height: 1px;margin: -1px;overflow: hidden;padding: 0;position: absolute;width: 1px;}#sk-container-id-4 div.sk-estimator {font-family: monospace;background-color: #f0f8ff;border: 1px dotted black;border-radius: 0.25em;box-sizing: border-box;margin-bottom: 0.5em;}#sk-container-id-4 div.sk-estimator:hover {background-color: #d4ebff;}#sk-container-id-4 div.sk-parallel-item::after {content: \"\";width: 100%;border-bottom: 1px solid gray;flex-grow: 1;}#sk-container-id-4 div.sk-label:hover label.sk-toggleable__label {background-color: #d4ebff;}#sk-container-id-4 div.sk-serial::before {content: \"\";position: absolute;border-left: 1px solid gray;box-sizing: border-box;top: 0;bottom: 0;left: 50%;z-index: 0;}#sk-container-id-4 div.sk-serial {display: flex;flex-direction: column;align-items: center;background-color: white;padding-right: 0.2em;padding-left: 0.2em;position: relative;}#sk-container-id-4 div.sk-item {position: relative;z-index: 1;}#sk-container-id-4 div.sk-parallel {display: flex;align-items: stretch;justify-content: center;background-color: white;position: relative;}#sk-container-id-4 div.sk-item::before, #sk-container-id-4 div.sk-parallel-item::before {content: \"\";position: absolute;border-left: 1px solid gray;box-sizing: border-box;top: 0;bottom: 0;left: 50%;z-index: -1;}#sk-container-id-4 div.sk-parallel-item {display: flex;flex-direction: column;z-index: 1;position: relative;background-color: white;}#sk-container-id-4 div.sk-parallel-item:first-child::after {align-self: flex-end;width: 50%;}#sk-container-id-4 div.sk-parallel-item:last-child::after {align-self: flex-start;width: 50%;}#sk-container-id-4 div.sk-parallel-item:only-child::after {width: 0;}#sk-container-id-4 div.sk-dashed-wrapped {border: 1px dashed gray;margin: 0 0.4em 0.5em 0.4em;box-sizing: border-box;padding-bottom: 0.4em;background-color: white;}#sk-container-id-4 div.sk-label label {font-family: monospace;font-weight: bold;display: inline-block;line-height: 1.2em;}#sk-container-id-4 div.sk-label-container {text-align: center;}#sk-container-id-4 div.sk-container {/* jupyter's `normalize.less` sets `[hidden] { display: none; }` but bootstrap.min.css set `[hidden] { display: none !important; }` so we also need the `!important` here to be able to override the default hidden behavior on the sphinx rendered scikit-learn.org. See: https://github.com/scikit-learn/scikit-learn/issues/21755 */display: inline-block !important;position: relative;}#sk-container-id-4 div.sk-text-repr-fallback {display: none;}</style><div id=\"sk-container-id-4\" class=\"sk-top-container\"><div class=\"sk-text-repr-fallback\"><pre>Pipeline(steps=[(&#x27;preprocessor&#x27;,\n",
       "                 ColumnTransformer(transformers=[(&#x27;cat&#x27;, OneHotEncoder(),\n",
       "                                                  [&#x27;Experimentation&#x27;,\n",
       "                                                   &#x27;Academic_Performance_Decline&#x27;,\n",
       "                                                   &#x27;Social_Isolation&#x27;,\n",
       "                                                   &#x27;Financial_Issues&#x27;,\n",
       "                                                   &#x27;Physical_Mental_Health_Problems&#x27;,\n",
       "                                                   &#x27;Legal_Consequences&#x27;,\n",
       "                                                   &#x27;Relationship_Strain&#x27;,\n",
       "                                                   &#x27;Risk_Taking_Behavior&#x27;,\n",
       "                                                   &#x27;Withdrawal_Symptoms&#x27;,\n",
       "                                                   &#x27;Denial_and_Resistance_to_Treatment&#x27;])])),\n",
       "                (&#x27;classifier&#x27;,\n",
       "                 LogisticRegression(class_weight=&#x27;balanced&#x27;, max_iter=1000))])</pre><b>In a Jupyter environment, please rerun this cell to show the HTML representation or trust the notebook. <br />On GitHub, the HTML representation is unable to render, please try loading this page with nbviewer.org.</b></div><div class=\"sk-container\" hidden><div class=\"sk-item sk-dashed-wrapped\"><div class=\"sk-label-container\"><div class=\"sk-label sk-toggleable\"><input class=\"sk-toggleable__control sk-hidden--visually\" id=\"sk-estimator-id-16\" type=\"checkbox\" ><label for=\"sk-estimator-id-16\" class=\"sk-toggleable__label sk-toggleable__label-arrow\">Pipeline</label><div class=\"sk-toggleable__content\"><pre>Pipeline(steps=[(&#x27;preprocessor&#x27;,\n",
       "                 ColumnTransformer(transformers=[(&#x27;cat&#x27;, OneHotEncoder(),\n",
       "                                                  [&#x27;Experimentation&#x27;,\n",
       "                                                   &#x27;Academic_Performance_Decline&#x27;,\n",
       "                                                   &#x27;Social_Isolation&#x27;,\n",
       "                                                   &#x27;Financial_Issues&#x27;,\n",
       "                                                   &#x27;Physical_Mental_Health_Problems&#x27;,\n",
       "                                                   &#x27;Legal_Consequences&#x27;,\n",
       "                                                   &#x27;Relationship_Strain&#x27;,\n",
       "                                                   &#x27;Risk_Taking_Behavior&#x27;,\n",
       "                                                   &#x27;Withdrawal_Symptoms&#x27;,\n",
       "                                                   &#x27;Denial_and_Resistance_to_Treatment&#x27;])])),\n",
       "                (&#x27;classifier&#x27;,\n",
       "                 LogisticRegression(class_weight=&#x27;balanced&#x27;, max_iter=1000))])</pre></div></div></div><div class=\"sk-serial\"><div class=\"sk-item sk-dashed-wrapped\"><div class=\"sk-label-container\"><div class=\"sk-label sk-toggleable\"><input class=\"sk-toggleable__control sk-hidden--visually\" id=\"sk-estimator-id-17\" type=\"checkbox\" ><label for=\"sk-estimator-id-17\" class=\"sk-toggleable__label sk-toggleable__label-arrow\">preprocessor: ColumnTransformer</label><div class=\"sk-toggleable__content\"><pre>ColumnTransformer(transformers=[(&#x27;cat&#x27;, OneHotEncoder(),\n",
       "                                 [&#x27;Experimentation&#x27;,\n",
       "                                  &#x27;Academic_Performance_Decline&#x27;,\n",
       "                                  &#x27;Social_Isolation&#x27;, &#x27;Financial_Issues&#x27;,\n",
       "                                  &#x27;Physical_Mental_Health_Problems&#x27;,\n",
       "                                  &#x27;Legal_Consequences&#x27;, &#x27;Relationship_Strain&#x27;,\n",
       "                                  &#x27;Risk_Taking_Behavior&#x27;, &#x27;Withdrawal_Symptoms&#x27;,\n",
       "                                  &#x27;Denial_and_Resistance_to_Treatment&#x27;])])</pre></div></div></div><div class=\"sk-parallel\"><div class=\"sk-parallel-item\"><div class=\"sk-item\"><div class=\"sk-label-container\"><div class=\"sk-label sk-toggleable\"><input class=\"sk-toggleable__control sk-hidden--visually\" id=\"sk-estimator-id-18\" type=\"checkbox\" ><label for=\"sk-estimator-id-18\" class=\"sk-toggleable__label sk-toggleable__label-arrow\">cat</label><div class=\"sk-toggleable__content\"><pre>[&#x27;Experimentation&#x27;, &#x27;Academic_Performance_Decline&#x27;, &#x27;Social_Isolation&#x27;, &#x27;Financial_Issues&#x27;, &#x27;Physical_Mental_Health_Problems&#x27;, &#x27;Legal_Consequences&#x27;, &#x27;Relationship_Strain&#x27;, &#x27;Risk_Taking_Behavior&#x27;, &#x27;Withdrawal_Symptoms&#x27;, &#x27;Denial_and_Resistance_to_Treatment&#x27;]</pre></div></div></div><div class=\"sk-serial\"><div class=\"sk-item\"><div class=\"sk-estimator sk-toggleable\"><input class=\"sk-toggleable__control sk-hidden--visually\" id=\"sk-estimator-id-19\" type=\"checkbox\" ><label for=\"sk-estimator-id-19\" class=\"sk-toggleable__label sk-toggleable__label-arrow\">OneHotEncoder</label><div class=\"sk-toggleable__content\"><pre>OneHotEncoder()</pre></div></div></div></div></div></div></div></div><div class=\"sk-item\"><div class=\"sk-estimator sk-toggleable\"><input class=\"sk-toggleable__control sk-hidden--visually\" id=\"sk-estimator-id-20\" type=\"checkbox\" ><label for=\"sk-estimator-id-20\" class=\"sk-toggleable__label sk-toggleable__label-arrow\">LogisticRegression</label><div class=\"sk-toggleable__content\"><pre>LogisticRegression(class_weight=&#x27;balanced&#x27;, max_iter=1000)</pre></div></div></div></div></div></div></div>"
      ],
      "text/plain": [
       "Pipeline(steps=[('preprocessor',\n",
       "                 ColumnTransformer(transformers=[('cat', OneHotEncoder(),\n",
       "                                                  ['Experimentation',\n",
       "                                                   'Academic_Performance_Decline',\n",
       "                                                   'Social_Isolation',\n",
       "                                                   'Financial_Issues',\n",
       "                                                   'Physical_Mental_Health_Problems',\n",
       "                                                   'Legal_Consequences',\n",
       "                                                   'Relationship_Strain',\n",
       "                                                   'Risk_Taking_Behavior',\n",
       "                                                   'Withdrawal_Symptoms',\n",
       "                                                   'Denial_and_Resistance_to_Treatment'])])),\n",
       "                ('classifier',\n",
       "                 LogisticRegression(class_weight='balanced', max_iter=1000))])"
      ]
     },
     "execution_count": 58,
     "metadata": {},
     "output_type": "execute_result"
    }
   ],
   "source": [
    "# Split the data into training and test sets\n",
    "X = df_train.drop('Addiction_Class', axis=1)\n",
    "y = df_train['Addiction_Class']\n",
    "X_train, X_test, y_train, y_test = train_test_split(X, y, test_size=0.2, random_state=42)\n",
    "\n",
    "# Fit the pipeline on the training data\n",
    "pipeline.fit(X_train, y_train)"
   ]
  },
  {
   "cell_type": "code",
   "execution_count": 59,
   "metadata": {
    "colab": {
     "base_uri": "https://localhost:8080/",
     "height": 193
    },
    "id": "j3Ye5k14jJNj",
    "outputId": "732efb56-bc02-4955-dff8-092bc9abf279"
   },
   "outputs": [
    {
     "name": "stdout",
     "output_type": "stream",
     "text": [
      "Accuracy: 0.5080941503624987\n",
      "Classification Report:\n",
      "              precision    recall  f1-score   support\n",
      "\n",
      "           0       0.71      0.51      0.59      7048\n",
      "           1       0.31      0.51      0.39      3021\n",
      "\n",
      "    accuracy                           0.51     10069\n",
      "   macro avg       0.51      0.51      0.49     10069\n",
      "weighted avg       0.59      0.51      0.53     10069\n",
      "\n"
     ]
    }
   ],
   "source": [
    "y_pred = pipeline.predict(X_test)\n",
    "\n",
    "# Evaluate the model\n",
    "accuracy = accuracy_score(y_test, y_pred)\n",
    "classification_rep = classification_report(y_test, y_pred)\n",
    "\n",
    "print(f\"Accuracy: {accuracy}\")\n",
    "print(f\"Classification Report:\\n{classification_rep}\")"
   ]
  },
  {
   "cell_type": "code",
   "execution_count": 60,
   "metadata": {},
   "outputs": [],
   "source": [
    "#Evaluate each model\n",
    "results = {}\n",
    "for model_name, model in models.items():\n",
    "    pipeline = Pipeline(steps=[\n",
    "        ('preprocessor', preprocessor),\n",
    "        ('classifier', model)\n",
    "    ])\n",
    "    \n",
    "    # Fit the pipeline on the training data\n",
    "    pipeline.fit(X_train, y_train)\n",
    "    \n",
    "    # Make predictions\n",
    "    y_pred = pipeline.predict(X_test)\n",
    "    \n",
    "    # Evaluate the model\n",
    "    accuracy = accuracy_score(y_test, y_pred)\n",
    "    results[model_name] = accuracy\n",
    "\n"
   ]
  },
  {
   "cell_type": "code",
   "execution_count": 61,
   "metadata": {},
   "outputs": [
    {
     "name": "stdout",
     "output_type": "stream",
     "text": [
      "Logistic Regression: Accuracy = 0.51\n",
      "Decision Tree: Accuracy = 0.70\n",
      "Random Forest: Accuracy = 0.70\n",
      "Support Vector Machine: Accuracy = 0.50\n"
     ]
    }
   ],
   "source": [
    "# Display the results\n",
    "for model_name, accuracy in results.items():\n",
    "    print(f\"{model_name}: Accuracy = {accuracy:.2f}\")"
   ]
  },
  {
   "cell_type": "code",
   "execution_count": null,
   "metadata": {},
   "outputs": [],
   "source": []
  }
 ],
 "metadata": {
  "colab": {
   "provenance": []
  },
  "kernelspec": {
   "display_name": "Python 3 (ipykernel)",
   "language": "python",
   "name": "python3"
  },
  "language_info": {
   "codemirror_mode": {
    "name": "ipython",
    "version": 3
   },
   "file_extension": ".py",
   "mimetype": "text/x-python",
   "name": "python",
   "nbconvert_exporter": "python",
   "pygments_lexer": "ipython3",
   "version": "3.11.5"
  }
 },
 "nbformat": 4,
 "nbformat_minor": 1
}
